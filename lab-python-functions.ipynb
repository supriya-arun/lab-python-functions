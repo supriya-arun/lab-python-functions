{
 "cells": [
  {
   "cell_type": "markdown",
   "id": "25d7736c-ba17-4aff-b6bb-66eba20fbf4e",
   "metadata": {},
   "source": [
    "# Lab | Functions"
   ]
  },
  {
   "cell_type": "code",
   "execution_count": null,
   "id": "1ee526c4-17e9-4b1e-855e-912149fa47db",
   "metadata": {},
   "outputs": [],
   "source": [
    "def initialize_inventory(products):\n",
    "    inventory = {}\n",
    "    for product in products:\n",
    "        value = input(f\"Enter the initial stock for {product}: \").strip()\n",
    "        inventory[product] = int(value)\n",
    "    return inventory\n",
    "\n",
    "\n",
    "def get_customer_orders():\n",
    "    customer_orders = set()\n",
    "    products = [\"t-shirt\", \"mug\", \"hat\", \"book\", \"keychain\"]\n",
    "    \n",
    "    adding_products = True\n",
    "    while adding_products:\n",
    "        product = input(f\"Enter the name of the product you want to order (from {products}): \").strip().lower()\n",
    "        \n",
    "        if product in products:\n",
    "            customer_orders.add(product)\n",
    "            print(f\"{product.capitalize()} added to your order.\")\n",
    "        else:\n",
    "            print(f\"Sorry, {product.capitalize()} is not available.\")\n",
    "        \n",
    "        # Ask user if they want to continue ordering\n",
    "        response = input(\"Do you want to order another product? (yes/no): \").strip().lower()\n",
    "        if response == 'no':\n",
    "            adding_products = False\n",
    "    \n",
    "    return customer_orders\n",
    "\n",
    "# Step 3: Update inventory based on customer orders\n",
    "def update_inventory(customer_orders, inventory):\n",
    "    for product in customer_orders:\n",
    "        if inventory[product] > 0:\n",
    "            inventory[product] -= 1\n",
    "        else:\n",
    "            print(f\"Sorry, {product.capitalize()} is out of stock.\")\n",
    "    return inventory\n",
    "\n",
    "# Step 4: Calculate order statistics\n",
    "def calculate_order_statistics(customer_orders, products):\n",
    "    total_products_ordered = len(customer_orders)\n",
    "    unique_product_percentage = (total_products_ordered / len(products)) * 100\n",
    "    return total_products_ordered, unique_product_percentage\n",
    "\n",
    "# Step 5: Print order statistics\n",
    "def print_order_statistics(order_statistics):\n",
    "    total_products_ordered, unique_product_percentage = order_statistics\n",
    "    print(\"\\nOrder Statistics:\")\n",
    "    print(f\"Total unique products ordered: {total_products_ordered}\")\n",
    "    print(f\"Percentage of unique products ordered: {unique_product_percentage:.2f}%\")\n",
    "\n",
    "# Step 6: Print updated inventory\n",
    "def print_updated_inventory(inventory):\n",
    "    print(\"\\nUpdated Inventory:\")\n",
    "    for product, stock in inventory.items():\n",
    "        print(f\"{product.capitalize()}: {stock} items remaining\")"
   ]
  },
  {
   "cell_type": "code",
   "execution_count": null,
   "id": "9e74b37c-1944-4d9a-bffc-4f0af11efc73",
   "metadata": {},
   "outputs": [],
   "source": []
  },
  {
   "cell_type": "markdown",
   "id": "0c581062-8967-4d93-b06e-62833222f930",
   "metadata": {
    "tags": []
   },
   "source": [
    "## Exercise: Managing Customer Orders with Functions\n",
    "\n",
    "In the previous exercise, you improved the code for managing customer orders by using loops and flow control. Now, let's take it a step further and refactor the code by introducing functions.\n",
    "\n",
    "Follow the steps below to complete the exercise:\n",
    "\n",
    "1. Define a function named `initialize_inventory` that takes `products` as a parameter. Inside the function, implement the code for initializing the inventory dictionary using a loop and user input.\n",
    "\n",
    "2. Define a function named `get_customer_orders` that takes no parameters. Inside the function, implement the code for prompting the user to enter the product names using a loop. The function should return the `customer_orders` set.\n",
    "\n",
    "3. Define a function named `update_inventory` that takes `customer_orders` and `inventory` as parameters. Inside the function, implement the code for updating the inventory dictionary based on the customer orders.\n",
    "\n",
    "4. Define a function named `calculate_order_statistics` that takes `customer_orders` and `products` as parameters. Inside the function, implement the code for calculating the order statistics (total products ordered, and percentage of unique products ordered). The function should return these values.\n",
    "\n",
    "5. Define a function named `print_order_statistics` that takes `order_statistics` as a parameter. Inside the function, implement the code for printing the order statistics.\n",
    "\n",
    "6. Define a function named `print_updated_inventory` that takes `inventory` as a parameter. Inside the function, implement the code for printing the updated inventory.\n",
    "\n",
    "7. Call the functions in the appropriate sequence to execute the program and manage customer orders.\n",
    "\n",
    "Hints for functions:\n",
    "\n",
    "- Consider the input parameters required for each function and their return values.\n",
    "- Utilize function parameters and return values to transfer data between functions.\n",
    "- Test your functions individually to ensure they work correctly.\n",
    "\n",
    "\n"
   ]
  },
  {
   "cell_type": "code",
   "execution_count": 1,
   "id": "5180e967-c9f8-401e-90b0-3dcb2050e188",
   "metadata": {},
   "outputs": [],
   "source": [
    "def initialize_inventory(products):\n",
    "    inventory = {}\n",
    "    for product in products:\n",
    "        value = input(f\"Enter the initial stock for {product}: \").strip()\n",
    "        inventory[product] = int(value)\n",
    "    return inventory\n",
    "\n",
    "\n",
    "def get_customer_orders():\n",
    "    customer_orders = set()\n",
    "    products = [\"t-shirt\", \"mug\", \"hat\", \"book\", \"keychain\"]\n",
    "    \n",
    "    adding_products = True\n",
    "    while adding_products:\n",
    "        product = input(f\"Enter the name of the product you want to order (from {products}): \").strip().lower()\n",
    "        \n",
    "        if product in products:\n",
    "            customer_orders.add(product)\n",
    "            print(f\"{product.capitalize()} added to your order.\")\n",
    "        else:\n",
    "            print(f\"Sorry, {product.capitalize()} is not available.\")\n",
    "        \n",
    "        # Ask user if they want to continue ordering\n",
    "        response = input(\"Do you want to order another product? (yes/no): \").strip().lower()\n",
    "        if response == 'no':\n",
    "            adding_products = False\n",
    "    \n",
    "    return customer_orders\n",
    "\n",
    "# Step 3: Update inventory based on customer orders\n",
    "def update_inventory(customer_orders, inventory):\n",
    "    for product in customer_orders:\n",
    "        if inventory[product] > 0:\n",
    "            inventory[product] -= 1\n",
    "        else:\n",
    "            print(f\"Sorry, {product.capitalize()} is out of stock.\")\n",
    "    return inventory\n",
    "\n",
    "# Step 4: Calculate order statistics\n",
    "def calculate_order_statistics(customer_orders, products):\n",
    "    total_products_ordered = len(customer_orders)\n",
    "    unique_product_percentage = (total_products_ordered / len(products)) * 100\n",
    "    return total_products_ordered, unique_product_percentage\n",
    "\n",
    "# Step 5: Print order statistics\n",
    "def print_order_statistics(order_statistics):\n",
    "    total_products_ordered, unique_product_percentage = order_statistics\n",
    "    print(\"\\nOrder Statistics:\")\n",
    "    print(f\"Total unique products ordered: {total_products_ordered}\")\n",
    "    print(f\"Percentage of unique products ordered: {unique_product_percentage:.2f}%\")\n",
    "\n",
    "# Step 6: Print updated inventory\n",
    "def print_updated_inventory(inventory):\n",
    "    print(\"\\nUpdated Inventory:\")\n",
    "    for product, stock in inventory.items():\n",
    "        print(f\"{product.capitalize()}: {stock} items remaining\")"
   ]
  },
  {
   "cell_type": "code",
   "execution_count": 5,
   "id": "2326438b-530b-4cc5-9cfe-d942584affd4",
   "metadata": {},
   "outputs": [
    {
     "name": "stdin",
     "output_type": "stream",
     "text": [
      "Enter the initial stock for t-shirt:  13\n",
      "Enter the initial stock for mug:  12\n",
      "Enter the initial stock for hat:  4\n",
      "Enter the initial stock for book:  3\n",
      "Enter the initial stock for keychain:  13\n",
      "Enter the name of the product you want to order (from ['t-shirt', 'mug', 'hat', 'book', 'keychain']):  mug\n"
     ]
    },
    {
     "name": "stdout",
     "output_type": "stream",
     "text": [
      "Mug added to your order.\n"
     ]
    },
    {
     "name": "stdin",
     "output_type": "stream",
     "text": [
      "Do you want to order another product? (yes/no):  yes\n",
      "Enter the name of the product you want to order (from ['t-shirt', 'mug', 'hat', 'book', 'keychain']):  book\n"
     ]
    },
    {
     "name": "stdout",
     "output_type": "stream",
     "text": [
      "Book added to your order.\n"
     ]
    },
    {
     "name": "stdin",
     "output_type": "stream",
     "text": [
      "Do you want to order another product? (yes/no):  no\n"
     ]
    },
    {
     "name": "stdout",
     "output_type": "stream",
     "text": [
      "\n",
      "Order Statistics:\n",
      "Total unique products ordered: 2\n",
      "Percentage of unique products ordered: 40.00%\n",
      "\n",
      "Updated Inventory:\n",
      "T-shirt: 13 items remaining\n",
      "Mug: 11 items remaining\n",
      "Hat: 4 items remaining\n",
      "Book: 2 items remaining\n",
      "Keychain: 13 items remaining\n"
     ]
    }
   ],
   "source": [
    "#Calling all the functions\n",
    "products = [\"t-shirt\", \"mug\", \"hat\", \"book\", \"keychain\"]\n",
    "inventory = initialize_inventory(products)\n",
    "customer_orders = get_customer_orders()\n",
    "updated_inventory = update_inventory(customer_orders, inventory)\n",
    "order_statistics = calculate_order_statistics(customer_orders, products)\n",
    "print_order_statistics(order_statistics)\n",
    "print_updated_inventory(updated_inventory)"
   ]
  },
  {
   "cell_type": "code",
   "execution_count": null,
   "id": "83c16b57-b9b0-4f23-9784-ba85b5c541dd",
   "metadata": {},
   "outputs": [],
   "source": []
  }
 ],
 "metadata": {
  "kernelspec": {
   "display_name": "Python 3 (ipykernel)",
   "language": "python",
   "name": "python3"
  },
  "language_info": {
   "codemirror_mode": {
    "name": "ipython",
    "version": 3
   },
   "file_extension": ".py",
   "mimetype": "text/x-python",
   "name": "python",
   "nbconvert_exporter": "python",
   "pygments_lexer": "ipython3",
   "version": "3.12.4"
  }
 },
 "nbformat": 4,
 "nbformat_minor": 5
}
